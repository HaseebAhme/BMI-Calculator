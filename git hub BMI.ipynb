{
 "cells": [
  {
   "cell_type": "code",
   "execution_count": 2,
   "id": "ce94f7a4",
   "metadata": {},
   "outputs": [
    {
     "data": {
      "text/html": [
       "\n",
       "        <iframe\n",
       "            width=\"100%\"\n",
       "            height=\"650\"\n",
       "            src=\"http://127.0.0.1:8052/\"\n",
       "            frameborder=\"0\"\n",
       "            allowfullscreen\n",
       "            \n",
       "        ></iframe>\n",
       "        "
      ],
      "text/plain": [
       "<IPython.lib.display.IFrame at 0x233c6b4b590>"
      ]
     },
     "metadata": {},
     "output_type": "display_data"
    }
   ],
   "source": [
    "import dash\n",
    "import dash_core_components as dcc\n",
    "import dash_html_components as html\n",
    "from dash.dependencies import Input, Output\n",
    "from fpdf import FPDF\n",
    "\n",
    "app = dash.Dash(__name__)\n",
    "\n",
    "app.layout = html.Div([\n",
    "    html.H1(\"BMI Calculator\"),\n",
    "    html.Label(\"Enter your name: \"),\n",
    "    dcc.Input(id='input-name', type='text', value=''),\n",
    "    html.Label(\"Enter your weight in pounds: \"),\n",
    "    dcc.Input(id='input-weight', type='number', value=0),\n",
    "    html.Label(\"Enter your height in inches: \"),\n",
    "    dcc.Input(id='input-height', type='number', value=0),\n",
    "    html.Button('Calculate BMI', id='calculate-button'),\n",
    "    html.Div(id='output-bmi', children=[\n",
    "        html.Hr(),\n",
    "        html.H4(\"BMI:\"),\n",
    "        html.Div(id='bmi-output'),\n",
    "        html.Hr(),\n",
    "        html.H4(\"Category:\"),\n",
    "        html.Div(id='category-output'),\n",
    "    ]),\n",
    "    html.Footer(\"The BMI Calculator Made By Mateen Ahmed\")\n",
    "])\n",
    "\n",
    "@app.callback(\n",
    "    [Output('bmi-output', 'children'),\n",
    "     Output('category-output', 'children')],\n",
    "    [Input('calculate-button', 'n_clicks')],\n",
    "    [dash.dependencies.State('input-name', 'value'),\n",
    "     dash.dependencies.State('input-weight', 'value'),\n",
    "     dash.dependencies.State('input-height', 'value')]\n",
    ")\n",
    "def calculate_bmi(n_clicks, name, weight, height):\n",
    "    if n_clicks is not None:\n",
    "        BMI = (weight * 703) / (height * height)\n",
    "        if BMI < 18.5:\n",
    "            category = \"underweight\"\n",
    "        elif BMI <= 24.9:\n",
    "            category = \"normal weight\"\n",
    "        elif BMI <= 29.9:\n",
    "            category = \"overweight\"\n",
    "        elif BMI <= 34.9:\n",
    "            category = \"obese\"\n",
    "        elif BMI <= 39.9:\n",
    "            category = \"severely obese\"\n",
    "        else:\n",
    "            category = \"morbidly obese\"\n",
    "        \n",
    "        return f\"{BMI:.2f}\", f\"You are {category}\"\n",
    "\n",
    "    return \"\", \"\"\n",
    "\n",
    "if __name__ == '__main__':\n",
    "    app.run_server(debug=True, port=8052)\n",
    "    \n"
   ]
  },
  {
   "cell_type": "code",
   "execution_count": null,
   "id": "bf2d13ca",
   "metadata": {},
   "outputs": [],
   "source": []
  }
 ],
 "metadata": {
  "kernelspec": {
   "display_name": "Python 3 (ipykernel)",
   "language": "python",
   "name": "python3"
  },
  "language_info": {
   "codemirror_mode": {
    "name": "ipython",
    "version": 3
   },
   "file_extension": ".py",
   "mimetype": "text/x-python",
   "name": "python",
   "nbconvert_exporter": "python",
   "pygments_lexer": "ipython3",
   "version": "3.11.5"
  }
 },
 "nbformat": 4,
 "nbformat_minor": 5
}
